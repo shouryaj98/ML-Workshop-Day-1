{
 "cells": [
  {
   "cell_type": "code",
   "execution_count": 6,
   "metadata": {},
   "outputs": [
    {
     "name": "stdout",
     "output_type": "stream",
     "text": [
      "   Id  SepalLengthCm  SepalWidthCm  PetalLengthCm  PetalWidthCm      Species\n",
      "0   1            5.1           3.5            1.4           0.2  Iris-setosa\n",
      "1   2            4.9           3.0            1.4           0.2  Iris-setosa\n",
      "2   3            4.7           3.2            1.3           0.2  Iris-setosa\n",
      "3   4            4.6           3.1            1.5           0.2  Iris-setosa\n",
      "4   5            5.0           3.6            1.4           0.2  Iris-setosa\n"
     ]
    }
   ],
   "source": [
    "import pandas as pd\n",
    "df = pd.read_csv('Iris.csv')                                              #Reading the dataset as a pandas dataframe\n",
    "print(df.head(5))\n",
    "X=df[[\"SepalLengthCm\",\"SepalWidthCm\",\"PetalLengthCm\",\"PetalWidthCm\"]].as_matrix() # Extracting the features from the dataset\n",
    "Y=df[[\"Species\"]].as_matrix()                                                     # Extracting the labels for classes"
   ]
  },
  {
   "cell_type": "code",
   "execution_count": 7,
   "metadata": {},
   "outputs": [],
   "source": [
    "from sklearn.cross_validation import train_test_split\n",
    "\n",
    "''' Function used to split the original dataset into training and test dataset'''\n",
    "train_x, test_x,train_y,test_y = train_test_split(X,Y, train_size = 0.8)"
   ]
  },
  {
   "cell_type": "code",
   "execution_count": 10,
   "metadata": {},
   "outputs": [
    {
     "name": "stdout",
     "output_type": "stream",
     "text": [
      "(120, 4)\n",
      "(120, 1)\n",
      "(30, 4)\n",
      "(30, 1)\n"
     ]
    }
   ],
   "source": [
    "print(train_x.shape)\n",
    "print(train_y.shape)\n",
    "print(test_x.shape)\n",
    "print(test_y.shape)"
   ]
  },
  {
   "cell_type": "code",
   "execution_count": 17,
   "metadata": {},
   "outputs": [
    {
     "name": "stdout",
     "output_type": "stream",
     "text": [
      "Accuracy Score:  0.933333333333\n",
      "\n",
      "Confusion Matrix: \n",
      " [[12  0  0]\n",
      " [ 0  7  1]\n",
      " [ 0  1  9]]\n",
      "\n"
     ]
    }
   ],
   "source": [
    "from sklearn import metrics\n",
    "from sklearn.linear_model import LogisticRegression\n",
    "\n",
    "model = LogisticRegression()\n",
    "model.fit(train_x, train_y.ravel())\n",
    "expected = test_y\n",
    "# make predictions\n",
    "predicted_logistic = model.predict(test_x)\n",
    "\n",
    "# summarize the fit of the model\n",
    "print(\"Accuracy Score: \",metrics.accuracy_score(expected, predicted_logistic))\n",
    "print()\n",
    "print(\"Confusion Matrix: \\n\",metrics.confusion_matrix(expected, predicted_logistic))\n",
    "print()                     \n",
    "\n",
    "#from sklearn.model_selection import cross_val_score             \n",
    "#scores = cross_val_score(model, train_x, train_y.ravel(), cv=3)\n",
    "#print(scores)\n",
    "#print() \n",
    "#print(\"Cross Validation scores mean:\", scores.mean())"
   ]
  },
  {
   "cell_type": "code",
   "execution_count": null,
   "metadata": {
    "collapsed": true
   },
   "outputs": [],
   "source": []
  }
 ],
 "metadata": {
  "kernelspec": {
   "display_name": "Python 3",
   "language": "python",
   "name": "python3"
  },
  "language_info": {
   "codemirror_mode": {
    "name": "ipython",
    "version": 3
   },
   "file_extension": ".py",
   "mimetype": "text/x-python",
   "name": "python",
   "nbconvert_exporter": "python",
   "pygments_lexer": "ipython3",
   "version": "3.6.1"
  }
 },
 "nbformat": 4,
 "nbformat_minor": 2
}
